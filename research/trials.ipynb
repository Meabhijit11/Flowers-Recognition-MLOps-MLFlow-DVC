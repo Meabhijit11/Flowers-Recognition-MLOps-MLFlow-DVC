{
 "cells": [
  {
   "cell_type": "code",
   "execution_count": 2,
   "metadata": {},
   "outputs": [],
   "source": [
    "import gdown"
   ]
  },
  {
   "cell_type": "code",
   "execution_count": 3,
   "metadata": {},
   "outputs": [],
   "source": [
    "url = \"https://drive.google.com/file/d/1OhHyzKebC6_kYRh_zmGp8xzH3eMU6LrL/view?usp=drive_link\"\n",
    "file_id = url.split(\"/\")[-2]"
   ]
  },
  {
   "cell_type": "code",
   "execution_count": 4,
   "metadata": {},
   "outputs": [
    {
     "name": "stderr",
     "output_type": "stream",
     "text": [
      "Downloading...\n",
      "From (original): https://drive.google.com/uc?/export=download&id=1OhHyzKebC6_kYRh_zmGp8xzH3eMU6LrL\n",
      "From (redirected): https://drive.google.com/uc?%2Fexport=download&id=1OhHyzKebC6_kYRh_zmGp8xzH3eMU6LrL&confirm=t&uuid=3eda4da2-822f-4560-a9d1-24f3549e2ffe\n",
      "To: c:\\Users\\meabh\\VS-MLOps\\Flowers-Recognition-MLOps-MLFlow-DVC\\research\\kidney-CT-Scan-data.zip\n",
      "100%|██████████| 235M/235M [00:15<00:00, 15.1MB/s] \n"
     ]
    },
    {
     "data": {
      "text/plain": [
       "'kidney-CT-Scan-data.zip'"
      ]
     },
     "execution_count": 4,
     "metadata": {},
     "output_type": "execute_result"
    }
   ],
   "source": [
    "prefix = 'https://drive.google.com/uc?/export=download&id='\n",
    "download_url = prefix + file_id\n",
    "gdown.download(download_url, \"kidney-CT-Scan-data.zip\")"
   ]
  },
  {
   "cell_type": "code",
   "execution_count": null,
   "metadata": {},
   "outputs": [],
   "source": [
    "https://drive.google.com/file/d/1OhHyzKebC6_kYRh_zmGp8xzH3eMU6LrL/view?usp=drive_link"
   ]
  },
  {
   "cell_type": "code",
   "execution_count": null,
   "metadata": {},
   "outputs": [],
   "source": []
  }
 ],
 "metadata": {
  "kernelspec": {
   "display_name": "cnncls",
   "language": "python",
   "name": "python3"
  },
  "language_info": {
   "codemirror_mode": {
    "name": "ipython",
    "version": 3
   },
   "file_extension": ".py",
   "mimetype": "text/x-python",
   "name": "python",
   "nbconvert_exporter": "python",
   "pygments_lexer": "ipython3",
   "version": "3.8.19"
  }
 },
 "nbformat": 4,
 "nbformat_minor": 2
}
